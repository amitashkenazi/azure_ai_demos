{
 "cells": [
  {
   "cell_type": "code",
   "execution_count": 71,
   "metadata": {},
   "outputs": [],
   "source": [
    "import requests\n",
    "from openai import AzureOpenAI\n",
    "import os\n",
    "import json\n",
    "from pprint import pprint\n",
    "from pprint import pprint\n",
    "# dotenv\n",
    "from dotenv import load_dotenv\n",
    "\n",
    "if \"OPENAI_API_KEY\" in os.environ:\n",
    "    os.environ.pop(\"OPENAI_API_KEY\")\n",
    "if \"OPENAI_ENDPOINT\" in os.environ:\n",
    "    os.environ.pop(\"OPENAI_ENDPOINT\")\n",
    "if \"AI_SEARCH_SERVICE\" in os.environ:\n",
    "    os.environ.pop(\"AI_SEARCH_SERVICE\")\n",
    "if \"AI_SEARCH_KEY\" in os.environ:\n",
    "    os.environ.pop(\"AI_SEARCH_KEY\")\n",
    "if \"AI_SEARCH_INDEX_NAME\" in os.environ:\n",
    "    os.environ.pop(\"AI_SEARCH_INDEX_NAME\")\n",
    "load_dotenv()\n",
    "os.environ['AI_SEARCH_INDEX_NAME']='faqdemo-netrefer-index'\n"
   ]
  },
  {
   "cell_type": "code",
   "execution_count": 72,
   "metadata": {},
   "outputs": [
    {
     "name": "stdout",
     "output_type": "stream",
     "text": [
      "https://aash-openai-eastus2.openai.azure.com/\n"
     ]
    }
   ],
   "source": [
    "client = AzureOpenAI(\n",
    "    api_key=os.environ['OPENAI_API_KEY'],\n",
    "    azure_endpoint=os.environ['OPENAI_ENDPOINT'],\n",
    "    api_version=\"2024-02-01\"\n",
    ")\n",
    "print(os.environ['OPENAI_ENDPOINT'])"
   ]
  },
  {
   "cell_type": "code",
   "execution_count": 74,
   "metadata": {},
   "outputs": [],
   "source": [
    "def get_embedding(text, model=\"text-embedding-ada-002\"):\n",
    "    response = client.embeddings.create(input=text,\n",
    "    model=model)\n",
    "    return response.data[0].embedding\n"
   ]
  },
  {
   "cell_type": "code",
   "execution_count": 73,
   "metadata": {},
   "outputs": [
    {
     "name": "stdout",
     "output_type": "stream",
     "text": [
      "index_name: faqdemo-netrefer-index\n",
      "service_name: ai-search-aash-demo\n"
     ]
    }
   ],
   "source": [
    "# send a query to the AI Search service\n",
    "service_name = os.environ['AI_SEARCH_SERVICE']\n",
    "index_name = os.environ['AI_SEARCH_INDEX_NAME']\n",
    "api_version = '2023-11-01'\n",
    "api_key = os.environ['AI_SEARCH_KEY']\n",
    "print(f\"index_name: {index_name}\")\n",
    "print(f\"service_name: {service_name}\")\n",
    "endpoint = f'https://{service_name}.search.windows.net/indexes/{index_name}/docs/search?api-version={api_version}'\n",
    "\n"
   ]
  },
  {
   "cell_type": "code",
   "execution_count": 75,
   "metadata": {},
   "outputs": [],
   "source": [
    "# Create a new index\n",
    "service_name = os.environ['AI_SEARCH_SERVICE']\n",
    "name = os.environ['AI_SEARCH_INDEX_NAME']\n",
    "url = f\"https://{service_name}.search.windows.net/indexes/{name}?api-version=2023-11-01\"\n",
    "payload = json.dumps({\n",
    "  \"name\": name,\n",
    "  \"fields\": [\n",
    "    {\n",
    "      \"name\": \"id\", # the name of the field\n",
    "      \"type\": \"Edm.String\", # the data type of the field\n",
    "      \"searchable\": False, # whether the field is searchable. This determines whether the field is included in full-text searches.\n",
    "      \"filterable\": True, # whether the field is filterable. This determines whether the field can be used in filter expressions.\n",
    "      \"retrievable\": True, # whether the field is retrievable. This determines whether the field is included in search results.\n",
    "      \"sortable\": False, # whether the field is sortable. This determines whether the field can be used in order-by expressions.\n",
    "      \"facetable\": False, # whether the field is facetable. This determines whether the field can be used in facet expressions.\n",
    "      \"key\": True, # whether the field is a key field. This determines whether the field uniquely identifies documents in the index.\n",
    "      \"indexAnalyzer\": None, # the name of the analyzer used at indexing time for the field\n",
    "      \"searchAnalyzer\": None, # the name of the analyzer used at search time for the field\n",
    "      \"analyzer\": None, # the name of the analyzer used at both indexing and search time for the field\n",
    "      \"fields\": [] # a list of sub-fields for complex fields like collections\n",
    "    },\n",
    "    {\n",
    "      \"name\": \"answer\",\n",
    "      \"type\": \"Edm.String\",\n",
    "      \"searchable\": True,\n",
    "      \"filterable\": True,\n",
    "      \"retrievable\": True,\n",
    "      \"sortable\": True,\n",
    "      \"facetable\": False,\n",
    "      \"key\": False,\n",
    "      \"indexAnalyzer\": None,\n",
    "      \"searchAnalyzer\": None,\n",
    "      \"analyzer\": \"en.microsoft\",\n",
    "      \"fields\": []\n",
    "    },\n",
    "    {\n",
    "      \"name\": \"AnswerVector\",\n",
    "      \"type\": \"Collection(Edm.Single)\",\n",
    "      \"searchable\": True,\n",
    "      \"retrievable\": True,\n",
    "      \"dimensions\": 1536,\n",
    "      \"vectorSearchProfile\": \"my-vector-profile\"\n",
    "    },\n",
    "    {\n",
    "      \"name\": \"filename\",\n",
    "      \"type\": \"Edm.String\",\n",
    "      \"searchable\": True,\n",
    "      \"filterable\": True,\n",
    "      \"retrievable\": True,\n",
    "      \"sortable\": True,\n",
    "      \"facetable\": False,\n",
    "      \"key\": False,\n",
    "      \"indexAnalyzer\": None,\n",
    "      \"searchAnalyzer\": None,\n",
    "      \"analyzer\": None,\n",
    "      \"fields\": []\n",
    "    },\n",
    "    {\n",
    "      \"name\": \"title\",\n",
    "      \"type\": \"Edm.String\",\n",
    "      \"searchable\": True,\n",
    "      \"filterable\": True,\n",
    "      \"retrievable\": True,\n",
    "      \"sortable\": True,\n",
    "      \"facetable\": False,\n",
    "      \"key\": False,\n",
    "      \"indexAnalyzer\": None,\n",
    "      \"searchAnalyzer\": None,\n",
    "      \"analyzer\": None,\n",
    "      \"fields\": []\n",
    "    },\n",
    "    {\n",
    "      \"name\": \"url\",\n",
    "      \"type\": \"Edm.String\",\n",
    "      \"searchable\": True,\n",
    "      \"filterable\": True,\n",
    "      \"retrievable\": True,\n",
    "      \"sortable\": True,\n",
    "      \"facetable\": False,\n",
    "      \"key\": False,\n",
    "      \"indexAnalyzer\": None,\n",
    "      \"searchAnalyzer\": None,\n",
    "      \"analyzer\": None,\n",
    "      \"fields\": []\n",
    "    },\n",
    "    {\n",
    "      \"name\": \"Tags\",\n",
    "      \"type\": \"Collection(Edm.String)\",\n",
    "      \"searchable\": True,\n",
    "      \"filterable\": True,\n",
    "      \"retrievable\": True,\n",
    "      \"sortable\": False,\n",
    "      \"facetable\": True,\n",
    "      \"key\": False,\n",
    "      \"indexAnalyzer\": None,\n",
    "      \"searchAnalyzer\": None,\n",
    "      \"analyzer\": None,\n",
    "      \"fields\": []\n",
    "    }\n",
    "],\n",
    "  \"corsOptions\": {\n",
    "    \"allowedOrigins\": [\n",
    "      \"*\"\n",
    "    ],\n",
    "    \"maxAgeInSeconds\": 60\n",
    "  },\n",
    "  \"vectorSearch\": {\n",
    "    \"algorithms\": [\n",
    "      {\n",
    "        \"name\": \"my-hnsw-config\",\n",
    "        \"kind\": \"hnsw\",\n",
    "        \"hnswParameters\": {\n",
    "          \"m\": 4, # the number of bi-directional links created for each element during construction\n",
    "          \"efConstruction\": 400, # the size of the dynamic list for the nearest neighbors (used during construction)\n",
    "          \"efSearch\": 500, # the size of the dynamic list for the nearest neighbors (used during search)\n",
    "          \"metric\": \"cosine\" # the distance metric used to compute the similarity between vectors\n",
    "        }\n",
    "      },\n",
    "      {\n",
    "        \"name\": \"my-eknn-config\",\n",
    "        \"kind\": \"exhaustiveKnn\",\n",
    "        \"exhaustiveKnnParameters\": {\n",
    "          \"metric\": \"cosine\"\n",
    "        }\n",
    "      }\n",
    "    ],\n",
    "    \"profiles\": [\n",
    "      {\n",
    "        \"name\": \"my-vector-profile\",\n",
    "        \"algorithm\": \"my-hnsw-config\"\n",
    "      }\n",
    "    ]\n",
    "  },\n",
    "  \"semantic\": {\n",
    "    \"configurations\": [\n",
    "      {\n",
    "        \"name\": \"my-semantic-config\",\n",
    "        \"prioritizedFields\": {\n",
    "          \"prioritizedContentFields\": [\n",
    "            {\n",
    "              \"fieldName\": \"answer\"\n",
    "            }\n",
    "          ],\n",
    "          \"prioritizedKeywordsFields\": [\n",
    "            {\n",
    "              \"fieldName\": \"Tags\"\n",
    "            }\n",
    "          ]\n",
    "        }\n",
    "      }\n",
    "    ]\n",
    "  }\n",
    "})\n",
    "headers = {\n",
    "  'Content-Type': 'application/json',\n",
    "  'api-key': os.environ['AI_SEARCH_KEY']\n",
    "}\n",
    "\n",
    "response = requests.request(\"PUT\", url, headers=headers, data=payload)\n",
    "\n"
   ]
  },
  {
   "cell_type": "code",
   "execution_count": 78,
   "metadata": {},
   "outputs": [
    {
     "name": "stdout",
     "output_type": "stream",
     "text": [
      "https://aash-openai-eastus2.openai.azure.com/\n",
      "https://aash-openai-eastus2.openai.azure.com/\n",
      "Index name: faqdemo-netrefer-index\n",
      "Service name: ai-search-aash-demo\n",
      "Analyzing images...\n",
      "Analyzing image https://new2cloud.de/wp-content/uploads/2021/04/CreateAzureFreeAccount-1-1536x879.png\n",
      "{\n",
      "    \"image_description\": \"This image shows the services available under the Azure free trial. It features a grid layout with various service offerings each represented in individual cards. Some of the services and their specifications highlighted include: Linux Virtual Machines with 750 hours of B1S Standard tier, Windows Virtual Machines also with 750 hours of B1S Standard tier, Managed Disks with 64 GB x 2 of P6 solid state drives, Blob Storage with 5 GB of locally redundant storage, File Storage with 5 GB LRS file storage, SQL Database with 250 GB, VPN Gateway with 750 hours of VpnGw1 Gateway Type, Load Balancer with 750 hours, 15 GB data processing, and 5 rules, Azure Cosmos DB with 400 RU/s provisioned throughput and 25 GB of storage, Service Bus with 750 hours and 13 million operations, Container Registry with 1 Standard tier registry, and Archive Storage with 10 GB LRS storage.\",\n",
      "    \"image_title\": \"Azure Free Trial Services Overview\"\n",
      "}\n",
      "sending to https://ai-search-aash-demo.search.windows.net/indexes/faqdemo-netrefer-index/docs/index?api-version=2020-06-30\n",
      "200\n",
      "{\"@odata.context\":\"https://ai-search-aash-demo.search.windows.net/indexes('faqdemo-netrefer-index')/$metadata#Collection(Microsoft.Azure.Search.V2020_06_30.IndexResult)\",\"value\":[{\"key\":\"81951b40-985e-478c-a240-6629d6804a53\",\"status\":true,\"errorMessage\":null,\"statusCode\":201}]}\n"
     ]
    }
   ],
   "source": [
    "# uploading the data\n",
    "import importlib\n",
    "import ai_search_upload_data\n",
    "importlib.reload(ai_search_upload_data)\n",
    "\n",
    "# Re-import the functions after reloading the module\n",
    "from ai_search_upload_data import analyze_and_upload_docs, analyze_and_updload_images\n",
    "\n",
    "# analyze the documents\n",
    "docs = analyze_and_upload_docs()\n",
    "print(f\"docs: {docs}\")\n",
    "# analyze the images\n",
    "images_urls = [\"https://new2cloud.de/wp-content/uploads/2021/04/CreateAzureFreeAccount-1-1536x879.png\"]\n",
    "images = analyze_and_updload_images(images_urls)\n",
    "print(\"Done\")"
   ]
  },
  {
   "cell_type": "code",
   "execution_count": 79,
   "metadata": {},
   "outputs": [],
   "source": [
    "def build_payload_vector_search(user_query, k=7):\n",
    "    return json.dumps({\n",
    "        \"count\": True, # return the count of results\n",
    "        \"select\": \"id, answer, Tags\", # return the specified fields\n",
    "        \"vectorQueries\": [\n",
    "            {\n",
    "                \"vector\": get_embedding(user_query, model=\"text-embedding-ada-002\"),\n",
    "                \"k\": k, # k is the number of results to return\n",
    "                \"fields\": \"AnswerVector\",\n",
    "                \"kind\": \"vector\",\n",
    "                \"exhaustive\": True\n",
    "            }\n",
    "        ]\n",
    "    })\n",
    "\n",
    "def answer_question_vector(user_query):\n",
    "    payload = build_payload_vector_search(user_query, 3)\n",
    "    headers = {\n",
    "      'Content-Type': 'application/json',\n",
    "        'api-key': api_key\n",
    "    }\n",
    "    response = requests.request(\"POST\", endpoint, headers=headers, data=payload)\n",
    "    return response.json()[\"value\"]"
   ]
  },
  {
   "cell_type": "code",
   "execution_count": 80,
   "metadata": {},
   "outputs": [],
   "source": [
    "def build_payload_hybrid_search(user_query, k=3, top=3):\n",
    "    return json.dumps({\n",
    "        \"count\": True,\n",
    "        \"search\": user_query,\n",
    "        \"select\": \"id, answer, Tags, filename\",\n",
    "        \"top\": top,\n",
    "        \"vectorQueries\": [\n",
    "            {\n",
    "                \"vector\": get_embedding(user_query, model=\"text-embedding-ada-002\"),\n",
    "                \"k\": k,\n",
    "                \"fields\": \"AnswerVector\",\n",
    "                \"kind\": \"vector\",\n",
    "                \"exhaustive\": True\n",
    "            }\n",
    "        ]\n",
    "    })\n",
    "\n",
    "def answer_question_hybrid(user_query):\n",
    "    payload = build_payload_hybrid_search(user_query)\n",
    "    headers = {\n",
    "      'Content-Type': 'application/json',\n",
    "        'api-key': api_key\n",
    "    }\n",
    "    response = requests.request(\"POST\", endpoint, headers=headers, data=payload)\n",
    "    return response.json()[\"value\"]"
   ]
  },
  {
   "cell_type": "code",
   "execution_count": 63,
   "metadata": {},
   "outputs": [],
   "source": [
    "def build_payload_hybrid_search_semantic(user_query, k=3, top=3):\n",
    "    return json.dumps({\n",
    "        \"count\": True,\n",
    "        \"search\": user_query,\n",
    "        \"queryType\": \"semantic\",  # Enable semantic search\n",
    "        \"semanticConfiguration\": \"my-semantic-config\",  # Apply the semantic configuration\n",
    "        \"select\": \"id, answer, Tags, filename\",\n",
    "        \"top\": top,\n",
    "        \"vectorQueries\": [\n",
    "            {\n",
    "                \"vector\": get_embedding(user_query, model=\"text-embedding-ada-002\"),\n",
    "                \"k\": k,\n",
    "                \"fields\": \"AnswerVector\",\n",
    "                \"kind\": \"vector\",\n",
    "                \"exhaustive\": True\n",
    "            }\n",
    "        ]\n",
    "    })\n",
    "\n",
    "def answer_question_hybrid_semantic(user_query):\n",
    "    payload = build_payload_hybrid_search(user_query)\n",
    "    headers = {\n",
    "        'Content-Type': 'application/json',\n",
    "        'api-key': api_key\n",
    "    }\n",
    "    response = requests.request(\"POST\", endpoint, headers=headers, data=payload)\n",
    "    return response.json()[\"value\"]\n"
   ]
  },
  {
   "cell_type": "code",
   "execution_count": 81,
   "metadata": {},
   "outputs": [],
   "source": [
    "def build_payload_keyword_search(user_query, top=3):\n",
    "    return json.dumps({\n",
    "        \"count\": True,\n",
    "        \"search\": user_query,\n",
    "        \"select\": \"id, answer, Tags\",\n",
    "        \"top\": top\n",
    "    })\n",
    "\n",
    "def answer_question_keyword(user_query):\n",
    "    payload = build_payload_keyword_search(user_query)\n",
    "    headers = {\n",
    "      'Content-Type': 'application/json',\n",
    "        'api-key': api_key\n",
    "    }\n",
    "    response = requests.request(\"POST\", endpoint, headers=headers, data=payload)\n",
    "    return response.json()[\"value\"]"
   ]
  },
  {
   "cell_type": "code",
   "execution_count": 82,
   "metadata": {},
   "outputs": [
    {
     "name": "stdout",
     "output_type": "stream",
     "text": [
      "At the end of your first 30 days or after you spend your $200 credit (whichever comes first), we'll ask you if you want to move to pay-as-you-go pricing. If you move to pay as you go, you'll keep getting free services and you'll only pay for what you use beyond the free monthly amounts. If you don't move to pay as you go, you can't purchase Azure services beyond your $200 credit—and eventually your account and services will be disabled.\n",
      "['FAQ', 'Azure']\n",
      "8.884999\n",
      "368cfc1f-d2d6-47c9-81ca-f75adf2541a7\n",
      "\n",
      "You start getting monthly free amounts of more than 55 other services when you create your Azure free account. If you move to pay-as-you-go pricing after 30 days or after you use your credit, you’ll continue to receive monthly free amounts of these services. If you exceed your monthly free amounts for any of these services, you’ll be billed for them at pay-as-you-go rates.\n",
      "['FAQ', 'Azure']\n",
      "5.626695\n",
      "d0a2b90d-2bae-4bd8-be57-84ee27fb6e1e\n",
      "\n",
      "When you sign up for an Azure free account, you get $200 credit. In the first 30 days, any services you use beyond their free amounts will be deducted from that $200 credit. When you've used up your $200 credit or 30 days have passed (whichever happens first), you'll need to upgrade by moving to pay-as-you-go pricing. That way, you can keep getting free amounts of services and purchase services beyond their free amounts as needed. The cost of those services is charged to the payment method you provide.\n",
      "['FAQ', 'Azure']\n",
      "5.3736367\n",
      "30f0d35f-246f-4f88-9e69-14ad008a5968\n",
      "\n"
     ]
    }
   ],
   "source": [
    "# API end point\n",
    "question = \"Can I skip the 30 days and just start with pay-as-you-go pricing?\"\n",
    "prompt = \"Q: \" + question + \"\\nA:\"\n",
    "prompt = \"I am searching for information about the question in 3 modes: keyword, vector, and hybrid search. Here are the results:\\n\\n\"\n",
    "res_keyword = answer_question_keyword(question)\n",
    "prompt += \"Keyword search:\\n\"\n",
    "for r in res_keyword:\n",
    "    prompt += f\"the answer is: {r['answer']}\\n\"\n",
    "    prompt += f\"the search score is: {r['@search.score']}\\n\"\n",
    "    print(r[\"answer\"])\n",
    "    print(r[\"Tags\"])\n",
    "    print(r[\"@search.score\"])\n",
    "    print(r[\"id\"])\n",
    "    print()\n",
    "prompt+= \"----end of keyword search----\\n\\n\""
   ]
  },
  {
   "cell_type": "code",
   "execution_count": 83,
   "metadata": {},
   "outputs": [
    {
     "name": "stdout",
     "output_type": "stream",
     "text": [
      "answer: If you decide not to move to pay-as-you-go pricing after your first 30 days or once you've used up your $200 credit (whichever happens first), any services you've deployed will be decommissioned and you won't be able to access them. To regain access, move to pay as you go within the following 30 days.\n",
      "\n",
      "answer: Yes. You can sign up directly for pay as you go. This will enable you to immediately use services beyond the free amounts at pay-as-you-go rates. You'll still get monthly free amounts of popular services for 12 months and more than 55 services that are always free, but you won't receive the $200 credit.\n",
      "\n",
      "answer: Once you move to pay-as-you-go pricing, certain types of popular services are available in free monthly amounts for 12 months. If you're using any of these services after 12 months, they'll continue to run and you'll be billed at pay-as-you-go rates. You'll continue to receive monthly free amounts of more than 55 services that are always free.\n",
      "\n"
     ]
    }
   ],
   "source": [
    "res_vector = answer_question_vector(question)\n",
    "prompt += \"Vector search:\\n\"\n",
    "for r in res_vector:\n",
    "    prompt += f\"the answer is: {r['answer']}\\n\"\n",
    "    prompt += f\"the search score is: {r['@search.score']}\\n\"\n",
    "    print(f\"answer: {r['answer']}\")\n",
    "    print()\n",
    "prompt+= \"----end of vector search----\\n\\n\"\n",
    "\n"
   ]
  },
  {
   "cell_type": "code",
   "execution_count": 84,
   "metadata": {},
   "outputs": [
    {
     "name": "stdout",
     "output_type": "stream",
     "text": [
      "answer: If you decide not to move to pay-as-you-go pricing after your first 30 days or once you've used up your $200 credit (whichever happens first), any services you've deployed will be decommissioned and you won't be able to access them. To regain access, move to pay as you go within the following 30 days.\n",
      "filename: faqs.csv\n",
      "Tags: ['FAQ', 'Azure']\n",
      "score: 0.03181818127632141\n",
      "id: 6737c8c9-021f-43fb-95a8-8022c6fb881e\n",
      "\n",
      "answer: Yes. You can sign up directly for pay as you go. This will enable you to immediately use services beyond the free amounts at pay-as-you-go rates. You'll still get monthly free amounts of popular services for 12 months and more than 55 services that are always free, but you won't receive the $200 credit.\n",
      "filename: faqs.csv\n",
      "Tags: ['FAQ', 'Azure']\n",
      "score: 0.03109932318329811\n",
      "id: 26dc8d02-f889-43f8-b298-e9638c7baea5\n",
      "\n",
      "answer: Once you move to pay-as-you-go pricing, certain types of popular services are available in free monthly amounts for 12 months. If you're using any of these services after 12 months, they'll continue to run and you'll be billed at pay-as-you-go rates. You'll continue to receive monthly free amounts of more than 55 services that are always free.\n",
      "filename: faqs.csv\n",
      "Tags: ['FAQ', 'Azure']\n",
      "score: 0.031054403632879257\n",
      "id: 8b1a3ae6-57d1-49f0-9110-11cdc7312707\n",
      "\n"
     ]
    }
   ],
   "source": [
    "res_hybrid = answer_question_hybrid(question)\n",
    "prompt += \"Hybrid search:\\n\"\n",
    "\n",
    "for r in res_hybrid:\n",
    "    prompt += f\"the answer is: {r['answer']}\\n\"\n",
    "    prompt += f\"the search score is: {r['@search.score']}\\n\"\n",
    "    print(f\"answer: {r['answer']}\")\n",
    "    print(f\"filename: {r['filename']}\")\n",
    "    print(f\"Tags: {r['Tags']}\")\n",
    "    print(f\"score: {r['@search.score']}\")\n",
    "    print(f\"id: {r['id']}\")\n",
    "    print()\n",
    "prompt+= \"----end of hybrid search----\\n\\n\""
   ]
  },
  {
   "cell_type": "code",
   "execution_count": 85,
   "metadata": {},
   "outputs": [
    {
     "name": "stdout",
     "output_type": "stream",
     "text": [
      "answer: If you decide not to move to pay-as-you-go pricing after your first 30 days or once you've used up your $200 credit (whichever happens first), any services you've deployed will be decommissioned and you won't be able to access them. To regain access, move to pay as you go within the following 30 days.\n",
      "\n",
      "answer: Yes. You can sign up directly for pay as you go. This will enable you to immediately use services beyond the free amounts at pay-as-you-go rates. You'll still get monthly free amounts of popular services for 12 months and more than 55 services that are always free, but you won't receive the $200 credit.\n",
      "\n",
      "answer: Once you move to pay-as-you-go pricing, certain types of popular services are available in free monthly amounts for 12 months. If you're using any of these services after 12 months, they'll continue to run and you'll be billed at pay-as-you-go rates. You'll continue to receive monthly free amounts of more than 55 services that are always free.\n",
      "\n"
     ]
    }
   ],
   "source": [
    "res_semantic = answer_question_hybrid_semantic(question)\n",
    "prompt += \"Hybrid search with semantic search:\\n\"\n",
    "for r in res_semantic:\n",
    "    prompt += f\"the answer is: {r['answer']}\\n\"\n",
    "    prompt += f\"the search score is: {r['@search.score']}\\n\"\n",
    "    print(f\"answer: {r['answer']}\")\n",
    "    print()\n",
    "prompt+= \"----end of hybrid search with semantic search----\\n\\n\"\n"
   ]
  },
  {
   "cell_type": "code",
   "execution_count": 87,
   "metadata": {},
   "outputs": [
    {
     "name": "stdout",
     "output_type": "stream",
     "text": [
      "\n",
      "Certainly! Here's a ranking of the search methods based on relevance and an explanation for each:\n",
      "\n",
      "1. **Hybrid search with semantic search**\n",
      "    - **Relevance: High**\n",
      "    - **Explanation:** This method combines the benefits of both keyword and vector searches, while also incorporating semantic understanding. It provides highly contextual and relevant results, such as explaining what happens if you do not move to pay-as-you-go pricing after the initial 30 days, which directly answers the query. The top results are all highly pertinent and informative.\n",
      "\n",
      "2. **Hybrid search**\n",
      "    - **Relevance: High**\n",
      "    - **Explanation:** This method also merges keyword and vector searches to deliver highly relevant results. The answers presented are quite similar to the results from the hybrid search with semantic search, indicating the critical actions required if you do not opt for the pay-as-you-go model after using up your credits or surpassing 30 days.\n",
      "\n",
      "3. **Vector search**\n",
      "    - **Relevance: Moderate**\n",
      "    - **Explanation:** Vector search uses semantic understanding and machine learning to find contextually relevant results. The answers you get are mostly relevant, explaining what happens if you don’t move to pay-as-you-go and detailing the benefits of such a model. However, it lacks some of the concrete actionable details that are clearer in hybrid searches.\n",
      "\n",
      "4. **Keyword search**\n",
      "    - **Relevance: Moderate to Low**\n",
      "    - **Explanation:** While keyword search can find relevant texts, it often lacks context and may return results that are less directly related to the query. Despite returning answers that discuss the $200 credit and pay-as-you-go pricing, it doesn't explicitly address the consequences as directly as the other methods.\n",
      "\n",
      "**Conclusion**:\n",
      "1. Hybrid search with semantic search\n",
      "2. Hybrid search\n",
      "3. Vector search\n",
      "4. Keyword search\n",
      "\n",
      "By blending the best of both keyword and vector approaches, hybrid searches with semantic understanding deliver the most pertinent and actionable insights.\n"
     ]
    }
   ],
   "source": [
    "\n",
    "\n",
    "prompt += \"\"\"which of the methods do you think is the best that gave the most relevant results? \n",
    "rank them from 1 to 4 and explain the results\\n\\n\"\"\"\n",
    "\n",
    "response = client.chat.completions.create(\n",
    "    model=\"gpo-4o-global\",\n",
    "    messages=[\n",
    "        {\"role\": \"system\", \"content\": prompt}\n",
    "    ],  \n",
    "    max_tokens=1000,\n",
    ")\n",
    "print()\n",
    "print(response.choices[0].message.content)"
   ]
  },
  {
   "cell_type": "code",
   "execution_count": 88,
   "metadata": {},
   "outputs": [
    {
     "name": "stdout",
     "output_type": "stream",
     "text": [
      "['FAQ', 'Azure', 'Image']\n",
      "0.03333333507180214\n",
      "81951b40-985e-478c-a240-6629d6804a53\n",
      "\n",
      "['FAQ', 'Azure']\n",
      "0.0317540317773819\n",
      "30f0d35f-246f-4f88-9e69-14ad008a5968\n",
      "\n",
      "['FAQ', 'Azure']\n",
      "0.03067915514111519\n",
      "d0a2b90d-2bae-4bd8-be57-84ee27fb6e1e\n",
      "\n"
     ]
    }
   ],
   "source": [
    "question = \"what are the services included in the Microsoft Azure free trial offer?\"\n",
    "answer_hybrid = answer_question_hybrid(question)\n",
    "\n",
    "# pprint(f\"hybrid={answer_hybrid}\")\n",
    "for answer in answer_hybrid:\n",
    "    print(answer[\"Tags\"])\n",
    "    print(answer[\"@search.score\"])\n",
    "    print(answer[\"id\"])\n",
    "    print()"
   ]
  },
  {
   "cell_type": "code",
   "execution_count": 61,
   "metadata": {},
   "outputs": [
    {
     "name": "stdout",
     "output_type": "stream",
     "text": [
      "answer: ['FAQ', 'Azure', 'Image']\n",
      "the user question: what are the servuces included in the Microsoft Azure free trial offer?\n",
      "The following data was retrieved from the Azure Search service:\n",
      "----------------\n",
      "The image displays a list of services available under the Azure Free Trial. The services are organized into categories: Compute, Storage, Databases, Networking, Integration, and Containers. Each service includes specific details such as the amount of free usage, with examples like 750 hours of Linux and Windows Virtual Machines, 64 GB of Managed Disks (SSD), 5 GB of Blob and File Storage, 250 GB of SQL Database, and 400 RU/s provisioned throughput in Azure Cosmos DB. Additional services include VPN Gateway, Load Balancer, Service Bus, and Container Registry.\n",
      "image_url: https://new2cloud.de/wp-content/uploads/2021/04/CreateAzureFreeAccount-1-1536x879.png\n",
      "----------------\n",
      "When you sign up for an Azure free account, you get $200 credit. In the first 30 days, any services you use beyond their free amounts will be deducted from that $200 credit. When you've used up your $200 credit or 30 days have passed (whichever happens first), you'll need to upgrade by moving to pay-as-you-go pricing. That way, you can keep getting free amounts of services and purchase services beyond their free amounts as needed. The cost of those services is charged to the payment method you provide.\n",
      "\n",
      "----------------\n",
      "You start getting monthly free amounts of more than 55 other services when you create your Azure free account. If you move to pay-as-you-go pricing after 30 days or after you use your credit, you’ll continue to receive monthly free amounts of these services. If you exceed your monthly free amounts for any of these services, you’ll be billed for them at pay-as-you-go rates.\n",
      "\n",
      "----------------\n",
      "\n",
      "{'answer': [{'content': 'When you sign up for the Microsoft Azure free trial, '\n",
      "                        'you are entitled to a broad range of free services '\n",
      "                        'which are organized into different categories such as '\n",
      "                        'Compute, Storage, Databases, Networking, Integration, '\n",
      "                        'and Containers. Below is an illustration of the '\n",
      "                        'services included in the Azure Free Trial, detailing '\n",
      "                        'the free usage amounts for various services.',\n",
      "             'type': 'text'},\n",
      "            {'caption': 'List of Azure Free Trial Services and Details',\n",
      "             'type': 'image',\n",
      "             'url': 'https://new2cloud.de/wp-content/uploads/2021/04/CreateAzureFreeAccount-1-1536x879.png'},\n",
      "            {'content': 'Additionally, as a new user, you receive a $200 '\n",
      "                        'credit to spend in the first 30 days on any Azure '\n",
      "                        'services beyond their free quota. After this period '\n",
      "                        \"or upon exhausting the credit, you'll need to opt for \"\n",
      "                        'pay-as-you-go pricing to continue using Azure '\n",
      "                        'services, whilst still enjoying the monthly free '\n",
      "                        'amounts of over 55 other services. Exceeding these '\n",
      "                        'free quotas will entail pay-as-you-go charges.',\n",
      "             'type': 'text'}]}\n"
     ]
    }
   ],
   "source": [
    "# putting images in the answer example\n",
    "\n",
    "\n",
    "prompt = f\"\"\"the user question: {question}\n",
    "The following data was retrieved from the Azure Search service:\n",
    "\"\"\"\n",
    "for answer in answer_hybrid:\n",
    "    prompt += \"----------------\\n\"\n",
    "    prompt += f\"\"\"{answer[\"answer\"]}\\n\"\"\"\n",
    "    if \"Image\" in answer[\"Tags\"]:\n",
    "        print(f\"answer: {answer['Tags']}\")\n",
    "        prompt += f\"\"\"image_url: {answer[\"filename\"]}\"\"\"\n",
    "    prompt += \"\\n\"\n",
    "prompt += \"----------------\\n\"\n",
    "print(prompt)\n",
    "response = client.chat.completions.create(\n",
    "        model=\"gpt-4-turbo\",\n",
    "        response_format={ \"type\": \"json_object\" },\n",
    "        messages=[\n",
    "            {\n",
    "                \"role\": \"system\",\n",
    "                \"content\": \"\"\"you are a bot that answers questions about Azure services\n",
    "                                write an answer to the user. The answer can combine images and text. The answer should be informative and concise. answer shortly and only about what the user asked.\n",
    "                                format the answer in a json structure with the following format:\n",
    "                                {\"answer\": [\n",
    "                                    {\n",
    "                                        \"type\": \"text\",\n",
    "                                        \"content\": <>\n",
    "                                    },\n",
    "                                    {\n",
    "                                        \"type\": \"image\",\n",
    "                                        \"url\": <>,\n",
    "                                        \"caption\": <>\n",
    "                                    }....\n",
    "                                ]}\n",
    "                                when integrating image into the answer, add text before the image that will explain what can be seen in the image. for exaple: In the following image, you can see....\n",
    "                                the message will print the information in order of the list and will present the images from the urls.\"\"\"\n",
    "            }, {\n",
    "                \"role\": \"user\",\n",
    "                \"content\": prompt\n",
    "            }\n",
    "        ]\n",
    "    )\n",
    "# make sure that we take only the json by finding the first { and last } chars\n",
    "res_json_str = response.choices[0].message.content[response.choices[0].message.content.find(\"{\"):response.choices[0].message.content.rfind(\"}\")+1]\n",
    "res_json = json.loads(res_json_str)\n",
    "pprint(res_json)\n"
   ]
  },
  {
   "cell_type": "code",
   "execution_count": 62,
   "metadata": {},
   "outputs": [
    {
     "data": {
      "text/markdown": [
       "When you sign up for the Microsoft Azure free trial, you are entitled to a broad range of free services which are organized into different categories such as Compute, Storage, Databases, Networking, Integration, and Containers. Below is an illustration of the services included in the Azure Free Trial, detailing the free usage amounts for various services."
      ],
      "text/plain": [
       "<IPython.core.display.Markdown object>"
      ]
     },
     "metadata": {},
     "output_type": "display_data"
    },
    {
     "data": {
      "image/png": "[encoded data removed]",
      "text/plain": [
       "<Figure size 640x480 with 1 Axes>"
      ]
     },
     "metadata": {},
     "output_type": "display_data"
    },
    {
     "data": {
      "text/markdown": [
       "Additionally, as a new user, you receive a $200 credit to spend in the first 30 days on any Azure services beyond their free quota. After this period or upon exhausting the credit, you'll need to opt for pay-as-you-go pricing to continue using Azure services, whilst still enjoying the monthly free amounts of over 55 other services. Exceeding these free quotas will entail pay-as-you-go charges."
      ],
      "text/plain": [
       "<IPython.core.display.Markdown object>"
      ]
     },
     "metadata": {},
     "output_type": "display_data"
    }
   ],
   "source": [
    "import matplotlib.pyplot as plt\n",
    "import requests\n",
    "from PIL import Image\n",
    "from io import BytesIO\n",
    "from IPython.display import display, Markdown\n",
    "\n",
    "\n",
    "def display_response(response):\n",
    "    for item in response['answer']:\n",
    "        if item['type'] == 'text':\n",
    "            display(Markdown(item['content']))\n",
    "        elif item['type'] == 'image':\n",
    "            response = requests.get(item['url'])\n",
    "            img = Image.open(BytesIO(response.content))\n",
    "            plt.imshow(img)\n",
    "            plt.axis('off')\n",
    "            plt.title(item['caption'])\n",
    "            plt.show()\n",
    "\n",
    "# Call the function to display the response\n",
    "display_response(res_json)\n"
   ]
  },
  {
   "cell_type": "code",
   "execution_count": null,
   "metadata": {},
   "outputs": [],
   "source": []
  }
 ],
 "metadata": {
  "kernelspec": {
   "display_name": "Python 3",
   "language": "python",
   "name": "python3"
  },
  "language_info": {
   "codemirror_mode": {
    "name": "ipython",
    "version": 3
   },
   "file_extension": ".py",
   "mimetype": "text/x-python",
   "name": "python",
   "nbconvert_exporter": "python",
   "pygments_lexer": "ipython3",
   "version": "3.10.14"
  }
 },
 "nbformat": 4,
 "nbformat_minor": 2
}
