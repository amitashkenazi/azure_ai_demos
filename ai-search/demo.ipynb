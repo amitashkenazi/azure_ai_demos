{
 "cells": [
  {
   "cell_type": "code",
   "execution_count": null,
   "metadata": {},
   "outputs": [],
   "source": [
    "import requests\n",
    "from openai.embeddings_utils import get_embedding\n",
    "import openai\n",
    "import os\n",
    "import json\n",
    "from pprint import pprint\n",
    "# dotenv\n",
    "from dotenv import load_dotenv\n",
    "os.environ.pop(\"OPENAI_API_KEY\")\n",
    "os.environ.pop(\"OPENAI_ENDPOINT\")\n",
    "os.environ.pop(\"AI_SEARCH_SERVICE\")\n",
    "os.environ.pop(\"AI_SEARCH_KEY\")\n",
    "load_dotenv()"
   ]
  },
  {
   "cell_type": "code",
   "execution_count": null,
   "metadata": {},
   "outputs": [],
   "source": [
    "openai.api_type = \"azure\"\n",
    "openai.api_key = os.environ['OPENAI_API_KEY']\n",
    "openai.api_base = os.environ['OPENAI_ENDPOINT']\n",
    "openai.api_version = \"2022-12-01\"\n"
   ]
  },
  {
   "cell_type": "code",
   "execution_count": null,
   "metadata": {},
   "outputs": [],
   "source": [
    "\n",
    "\n",
    "# send a query to the AI Search service\n",
    "service_name = os.environ['AI_SEARCH_SERVICE']\n",
    "index_name = 'faqdemo'\n",
    "api_version = '2023-11-01'\n",
    "api_key = os.environ['AI_SEARCH_KEY']\n",
    "endpoint = f'https://{service_name}.search.windows.net/indexes/{index_name}/docs/search?api-version={api_version}'\n"
   ]
  },
  {
   "cell_type": "code",
   "execution_count": null,
   "metadata": {},
   "outputs": [],
   "source": [
    "question = \"Can I skip the 30 days and just start with pay-as-you-go pricing?\""
   ]
  },
  {
   "cell_type": "code",
   "execution_count": 52,
   "metadata": {},
   "outputs": [],
   "source": [
    "def build_payload_vector_search(question, k=7):\n",
    "    return json.dumps({\n",
    "        \"count\": True,\n",
    "        \"select\": \"id, question, answer, Tags\",\n",
    "        \"vectorQueries\": [\n",
    "            # {\n",
    "            #     \"vector\": get_embedding(question, engine=\"text-embedding-ada-002\"),\n",
    "            #     \"k\": 7,\n",
    "            #     \"fields\": \"AnswerVector\",\n",
    "            #     \"kind\": \"vector\",\n",
    "            #     \"exhaustive\": True\n",
    "            # },\n",
    "            {\n",
    "                \"vector\": get_embedding(question, engine=\"text-embedding-ada-002\"),\n",
    "                \"k\": k,\n",
    "                \"fields\": \"QuestionVector\",\n",
    "                \"kind\": \"vector\",\n",
    "                \"exhaustive\": True\n",
    "            }\n",
    "        ]\n",
    "    })"
   ]
  },
  {
   "cell_type": "code",
   "execution_count": 55,
   "metadata": {},
   "outputs": [],
   "source": [
    "def build_payload_hybrid_search(question, k=7, top=7):\n",
    "    return json.dumps({\n",
    "        \"count\": True,\n",
    "        \"search\": question,\n",
    "        \"select\": \"id, question, answer, Tags\",\n",
    "        \"top\": top,\n",
    "        \"vectorQueries\": [\n",
    "            {\n",
    "                \"vector\": get_embedding(question, engine=\"text-embedding-ada-002\"),\n",
    "                \"k\": k,\n",
    "                \"fields\": \"AnswerVector\",\n",
    "                \"kind\": \"vector\",\n",
    "                \"exhaustive\": True\n",
    "            }\n",
    "        ]\n",
    "    })"
   ]
  },
  {
   "cell_type": "code",
   "execution_count": 63,
   "metadata": {},
   "outputs": [],
   "source": [
    "def build_payload_search(question, top=7):\n",
    "    return json.dumps({\n",
    "        \"count\": True,\n",
    "        \"search\": question,\n",
    "        \"select\": \"id, question, answer, Tags\",\n",
    "        \"top\": top\n",
    "    })"
   ]
  },
  {
   "cell_type": "code",
   "execution_count": 65,
   "metadata": {},
   "outputs": [
    {
     "name": "stdout",
     "output_type": "stream",
     "text": [
      "question: What are the benefits of using Azure Kubernetes Service (AKS) for container orchestration compared to managing my own Kubernetes clusters?\n",
      "Are security updates applied to AKS agent nodes?\n",
      "AKS patches CVEs that have a 'vendor fix' every week. CVEs without a fix are waiting on a 'vendor fix' before it can be remediated. The AKS images are automatically updated inside of 30 days. We recommend you apply an updated Node Image on a regular cadence to ensure that latest patched images and OS patches are all applied and current. You can do this using one of the following methods:\\n\\nManually, through the Azure portal or the Azure CLI.\\nBy upgrading your AKS cluster. The cluster upgrades cordon and drain nodes automatically and then bring a new node online with the latest Ubuntu image and a new patch version or a minor Kubernetes version. For more information, see Upgrade an AKS cluster.\\nBy using node image upgrade.\n",
      "['FAQ', 'Azure']\n",
      "8.928544\n",
      "9e4918e7-b288-447a-a1ef-c622b331ed72\n",
      "\n",
      "Can I move my AKS clusters from the current Azure subscription to another?\n",
      "Moving your AKS cluster and its associated resources between Azure subscriptions isn't supported.\n",
      "['FAQ', 'Azure']\n",
      "7.9583173\n",
      "fc546018-3440-4fa8-9e1b-79f5d850f419\n",
      "\n",
      "What's the size limit on a container image in AKS?\n",
      "AKS doesn't set a limit on the container image size. However, it's important to understand that the larger the image, the higher the memory demand. A larger size could potentially exceed resource limits or the overall available memory of worker nodes. By default, memory for VM size Standard_DS2_v2 for an AKS cluster is set to 7 GiB.\\n\\nWhen a container image is excessively large, as in the Terabyte (TBs) range, kubelet might not be able to pull it from your container registry to a node due to lack of disk space.\n",
      "['FAQ', 'Azure']\n",
      "6.7960224\n",
      "48203012-0484-4e28-8b79-eb6fb4c8ea11\n",
      "\n"
     ]
    }
   ],
   "source": [
    "payload = build_payload_search(question, 3)\n",
    "headers = {\n",
    "  'Content-Type': 'application/json',\n",
    "  'api-key': api_key\n",
    "}\n",
    "response = requests.request(\"POST\", endpoint, headers=headers, data=payload)\n",
    "print(f\"question: {question}\")\n",
    "# pprint(response.json())\n",
    "print(\"response:\")\n",
    "for r in response.json()[\"value\"]:\n",
    "    print(r[\"question\"])\n",
    "    print(r[\"answer\"])\n",
    "    print(r[\"Tags\"])\n",
    "    print(r[\"@search.score\"])\n",
    "    print(r[\"id\"])\n",
    "    print()"
   ]
  },
  {
   "cell_type": "code",
   "execution_count": 60,
   "metadata": {},
   "outputs": [
    {
     "name": "stdout",
     "output_type": "stream",
     "text": [
      "question: What are the benefits of using Azure Kubernetes Service (AKS) for container orchestration compared to managing my own Kubernetes clusters?\n",
      "Can I move my AKS clusters from the current Azure subscription to another?\n",
      "Moving your AKS cluster and its associated resources between Azure subscriptions isn't supported.\n",
      "['FAQ', 'Azure']\n",
      "0.8773617\n",
      "fc546018-3440-4fa8-9e1b-79f5d850f419\n",
      "\n"
     ]
    }
   ],
   "source": [
    "payload = build_payload_vector_search(question, 1)\n",
    "headers = {\n",
    "  'Content-Type': 'application/json',\n",
    "  'api-key': api_key\n",
    "}\n",
    "response = requests.request(\"POST\", endpoint, headers=headers, data=payload)\n",
    "print(f\"question: {question}\")\n",
    "print(\"response:\")\n",
    "for r in response.json()[\"value\"]:\n",
    "    print(r[\"question\"])\n",
    "    print(r[\"answer\"])\n",
    "    print(r[\"Tags\"])\n",
    "    print(r[\"@search.score\"])\n",
    "    print(r[\"id\"])\n",
    "    print()\n",
    "\n"
   ]
  },
  {
   "cell_type": "code",
   "execution_count": 61,
   "metadata": {},
   "outputs": [
    {
     "name": "stdout",
     "output_type": "stream",
     "text": [
      "qustion: What are the benefits of using Azure Kubernetes Service (AKS) for container orchestration compared to managing my own Kubernetes clusters?\n",
      "What is platform support, and what does it include?\n",
      "Platform support is a reduced support plan for unsupported 'N-3' version clusters. Platform support only includes Azure infrastructure support. Platform support doesn't include anything related to the following: Kubernetes functionality and components, Cluster or node pool creation, Hotfixes, Bug fixes, Security patches, Retired components. For more information on restrictions, see the platform support policy. AKS relies on the releases and patches from Kubernetes, which is an Open Source project that only supports a sliding window of three minor versions. AKS can only guarantee full support while those versions are being serviced upstream. Since there's no more patches being produced upstream, AKS can either leave those versions unpatched or fork. Due to this limitation, platform support doesn't support anything from relying on kubernetes upstream.\n",
      "['FAQ', 'Azure']\n",
      "0.031159421429038048\n",
      "150e4868-2afa-4c8e-92d5-d2d4b5c096d6\n",
      "\n",
      "Are security updates applied to AKS agent nodes?\n",
      "AKS patches CVEs that have a 'vendor fix' every week. CVEs without a fix are waiting on a 'vendor fix' before it can be remediated. The AKS images are automatically updated inside of 30 days. We recommend you apply an updated Node Image on a regular cadence to ensure that latest patched images and OS patches are all applied and current. You can do this using one of the following methods:\\n\\nManually, through the Azure portal or the Azure CLI.\\nBy upgrading your AKS cluster. The cluster upgrades cordon and drain nodes automatically and then bring a new node online with the latest Ubuntu image and a new patch version or a minor Kubernetes version. For more information, see Upgrade an AKS cluster.\\nBy using node image upgrade.\n",
      "['FAQ', 'Azure']\n",
      "0.01666666753590107\n",
      "9e4918e7-b288-447a-a1ef-c622b331ed72\n",
      "\n",
      "Can I move my AKS clusters from the current Azure subscription to another?\n",
      "Moving your AKS cluster and its associated resources between Azure subscriptions isn't supported.\n",
      "['FAQ', 'Azure']\n",
      "0.016393441706895828\n",
      "fc546018-3440-4fa8-9e1b-79f5d850f419\n",
      "\n"
     ]
    }
   ],
   "source": [
    "\n",
    "payload = build_payload_hybrid_search(question, 1, 3)\n",
    "headers = {\n",
    "  'Content-Type': 'application/json',\n",
    "  'api-key': api_key\n",
    "}\n",
    "\n",
    "response = requests.request(\"POST\", endpoint, headers=headers, data=payload)\n",
    "print(f\"qustion: {question}\")\n",
    "print(\"response:\")\n",
    "for r in response.json()[\"value\"]:\n",
    "    print(r[\"question\"])\n",
    "    print(r[\"answer\"])\n",
    "    print(r[\"Tags\"])\n",
    "    print(r[\"@search.score\"])\n",
    "    print(r[\"id\"])\n",
    "    print()"
   ]
  },
  {
   "cell_type": "code",
   "execution_count": 46,
   "metadata": {},
   "outputs": [],
   "source": [
    "def answer_question_vector(question):\n",
    "    payload = build_payload_vector_search(question)\n",
    "    headers = {\n",
    "      'Content-Type': 'application/json',\n",
    "        'api-key': api_key\n",
    "    }\n",
    "    response = requests.request(\"POST\", endpoint, headers=headers, data=payload)\n",
    "    return response.json()[\"value\"]\n",
    "\n",
    "def answer_question_hybrid(question):\n",
    "    payload = build_payload_hybrid_search(question)\n",
    "    headers = {\n",
    "      'Content-Type': 'application/json',\n",
    "        'api-key': api_key\n",
    "    }\n",
    "    response = requests.request(\"POST\", endpoint, headers=headers, data=payload)\n",
    "    return response.json()[\"value\"]"
   ]
  },
  {
   "cell_type": "code",
   "execution_count": 48,
   "metadata": {},
   "outputs": [
    {
     "name": "stdout",
     "output_type": "stream",
     "text": [
      "hybrid={'@search.score': 0.031159421429038048, 'id': '150e4868-2afa-4c8e-92d5-d2d4b5c096d6', 'question': 'What is platform support, and what does it include?', 'answer': \"Platform support is a reduced support plan for unsupported 'N-3' version clusters. Platform support only includes Azure infrastructure support. Platform support doesn't include anything related to the following: Kubernetes functionality and components, Cluster or node pool creation, Hotfixes, Bug fixes, Security patches, Retired components. For more information on restrictions, see the platform support policy. AKS relies on the releases and patches from Kubernetes, which is an Open Source project that only supports a sliding window of three minor versions. AKS can only guarantee full support while those versions are being serviced upstream. Since there's no more patches being produced upstream, AKS can either leave those versions unpatched or fork. Due to this limitation, platform support doesn't support anything from relying on kubernetes upstream.\", 'Tags': ['FAQ', 'Azure']}\n",
      "vector={'@search.score': 0.8773617, 'id': 'fc546018-3440-4fa8-9e1b-79f5d850f419', 'question': 'Can I move my AKS clusters from the current Azure subscription to another?', 'answer': \"Moving your AKS cluster and its associated resources between Azure subscriptions isn't supported.\", 'Tags': ['FAQ', 'Azure']}\n"
     ]
    }
   ],
   "source": [
    "question = \"What are the benefits of using Azure Kubernetes Service (AKS) for container orchestration compared to managing my own Kubernetes clusters?\"\n",
    "answer_hybrid = answer_question_hybrid(question)\n",
    "answer_vector = answer_question_vector(question)\n",
    "\n",
    "print(f\"hybrid={answer_hybrid}\")\n",
    "print(f\"vector={answer_vector}\")"
   ]
  },
  {
   "cell_type": "code",
   "execution_count": null,
   "metadata": {},
   "outputs": [],
   "source": []
  }
 ],
 "metadata": {
  "kernelspec": {
   "display_name": "Python 3",
   "language": "python",
   "name": "python3"
  },
  "language_info": {
   "codemirror_mode": {
    "name": "ipython",
    "version": 3
   },
   "file_extension": ".py",
   "mimetype": "text/x-python",
   "name": "python",
   "nbconvert_exporter": "python",
   "pygments_lexer": "ipython3",
   "version": "3.11.5"
  }
 },
 "nbformat": 4,
 "nbformat_minor": 2
}
