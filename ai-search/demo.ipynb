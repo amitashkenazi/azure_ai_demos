{
 "cells": [
  {
   "cell_type": "code",
   "execution_count": 51,
   "metadata": {},
   "outputs": [],
   "source": [
    "import requests\n",
    "from openai import AzureOpenAI\n",
    "import os\n",
    "import json\n",
    "from pprint import pprint\n",
    "from pprint import pprint\n",
    "# dotenv\n",
    "from dotenv import load_dotenv\n",
    "\n",
    "if \"OPENAI_API_KEY\" in os.environ:\n",
    "    os.environ.pop(\"OPENAI_API_KEY\")\n",
    "if \"OPENAI_ENDPOINT\" in os.environ:\n",
    "    os.environ.pop(\"OPENAI_ENDPOINT\")\n",
    "if \"AI_SEARCH_SERVICE\" in os.environ:\n",
    "    os.environ.pop(\"AI_SEARCH_SERVICE\")\n",
    "if \"AI_SEARCH_KEY\" in os.environ:\n",
    "    os.environ.pop(\"AI_SEARCH_KEY\")\n",
    "if \"AI_SEARCH_INDEX_NAME\" in os.environ:\n",
    "    os.environ.pop(\"AI_SEARCH_INDEX_NAME\")\n",
    "load_dotenv()\n",
    "os.environ['AI_SEARCH_INDEX_NAME']='faqdemo-netrefer-2'\n"
   ]
  },
  {
   "cell_type": "code",
   "execution_count": 53,
   "metadata": {},
   "outputs": [
    {
     "name": "stdout",
     "output_type": "stream",
     "text": [
      "https://aash-openai-eastus2.openai.azure.com/\n"
     ]
    }
   ],
   "source": [
    "client = AzureOpenAI(\n",
    "    api_key=os.environ['OPENAI_API_KEY'],\n",
    "    azure_endpoint=os.environ['OPENAI_ENDPOINT'],\n",
    "    api_version=\"2024-02-01\"\n",
    ")\n",
    "print(os.environ['OPENAI_ENDPOINT'])"
   ]
  },
  {
   "cell_type": "code",
   "execution_count": null,
   "metadata": {},
   "outputs": [],
   "source": [
    "def get_embedding(text, model=\"text-embedding-ada-002\"):\n",
    "    response = client.embeddings.create(input=text,\n",
    "    model=model)\n",
    "    return response.data[0].embedding\n"
   ]
  },
  {
   "cell_type": "code",
   "execution_count": null,
   "metadata": {},
   "outputs": [],
   "source": [
    "# send a query to the AI Search service\n",
    "service_name = os.environ['AI_SEARCH_SERVICE']\n",
    "index_name = os.environ['AI_SEARCH_INDEX_NAME']\n",
    "api_version = '2023-11-01'\n",
    "api_key = os.environ['AI_SEARCH_KEY']\n",
    "print(f\"index_name: {index_name}\")\n",
    "print(f\"service_name: {service_name}\")\n",
    "endpoint = f'https://{service_name}.search.windows.net/indexes/{index_name}/docs/search?api-version={api_version}'\n",
    "\n"
   ]
  },
  {
   "cell_type": "code",
   "execution_count": null,
   "metadata": {},
   "outputs": [],
   "source": [
    "# Create a new index\n",
    "service_name = os.environ['AI_SEARCH_SERVICE']\n",
    "name = os.environ['AI_SEARCH_INDEX_NAME']\n",
    "url = f\"https://{service_name}.search.windows.net/indexes/{name}?api-version=2023-11-01\"\n",
    "payload = json.dumps({\n",
    "  \"name\": name,\n",
    "  \"fields\": [\n",
    "    {\n",
    "      \"name\": \"id\", # the name of the field\n",
    "      \"type\": \"Edm.String\", # the data type of the field\n",
    "      \"searchable\": False, # whether the field is searchable. This determines whether the field is included in full-text searches.\n",
    "      \"filterable\": True, # whether the field is filterable. This determines whether the field can be used in filter expressions.\n",
    "      \"retrievable\": True, # whether the field is retrievable. This determines whether the field is included in search results.\n",
    "      \"sortable\": False, # whether the field is sortable. This determines whether the field can be used in order-by expressions.\n",
    "      \"facetable\": False, # whether the field is facetable. This determines whether the field can be used in facet expressions.\n",
    "      \"key\": True, # whether the field is a key field. This determines whether the field uniquely identifies documents in the index.\n",
    "      \"indexAnalyzer\": None, # the name of the analyzer used at indexing time for the field\n",
    "      \"searchAnalyzer\": None, # the name of the analyzer used at search time for the field\n",
    "      \"analyzer\": None, # the name of the analyzer used at both indexing and search time for the field\n",
    "      \"fields\": [] # a list of sub-fields for complex fields like collections\n",
    "    },\n",
    "    {\n",
    "      \"name\": \"answer\",\n",
    "      \"type\": \"Edm.String\",\n",
    "      \"searchable\": True,\n",
    "      \"filterable\": True,\n",
    "      \"retrievable\": True,\n",
    "      \"sortable\": True,\n",
    "      \"facetable\": False,\n",
    "      \"key\": False,\n",
    "      \"indexAnalyzer\": None,\n",
    "      \"searchAnalyzer\": None,\n",
    "      \"analyzer\": \"en.microsoft\",\n",
    "      \"fields\": []\n",
    "    },\n",
    "    {\n",
    "      \"name\": \"AnswerVector\",\n",
    "      \"type\": \"Collection(Edm.Single)\",\n",
    "      \"searchable\": True,\n",
    "      \"retrievable\": True,\n",
    "      \"dimensions\": 1536,\n",
    "      \"vectorSearchProfile\": \"my-vector-profile\"\n",
    "    },\n",
    "    {\n",
    "      \"name\": \"filename\",\n",
    "      \"type\": \"Edm.String\",\n",
    "      \"searchable\": True,\n",
    "      \"filterable\": True,\n",
    "      \"retrievable\": True,\n",
    "      \"sortable\": True,\n",
    "      \"facetable\": False,\n",
    "      \"key\": False,\n",
    "      \"indexAnalyzer\": None,\n",
    "      \"searchAnalyzer\": None,\n",
    "      \"analyzer\": None,\n",
    "      \"fields\": []\n",
    "    },\n",
    "    {\n",
    "      \"name\": \"title\",\n",
    "      \"type\": \"Edm.String\",\n",
    "      \"searchable\": True,\n",
    "      \"filterable\": True,\n",
    "      \"retrievable\": True,\n",
    "      \"sortable\": True,\n",
    "      \"facetable\": False,\n",
    "      \"key\": False,\n",
    "      \"indexAnalyzer\": None,\n",
    "      \"searchAnalyzer\": None,\n",
    "      \"analyzer\": None,\n",
    "      \"fields\": []\n",
    "    },\n",
    "    {\n",
    "      \"name\": \"url\",\n",
    "      \"type\": \"Edm.String\",\n",
    "      \"searchable\": True,\n",
    "      \"filterable\": True,\n",
    "      \"retrievable\": True,\n",
    "      \"sortable\": True,\n",
    "      \"facetable\": False,\n",
    "      \"key\": False,\n",
    "      \"indexAnalyzer\": None,\n",
    "      \"searchAnalyzer\": None,\n",
    "      \"analyzer\": None,\n",
    "      \"fields\": []\n",
    "    },\n",
    "    {\n",
    "      \"name\": \"Tags\",\n",
    "      \"type\": \"Collection(Edm.String)\",\n",
    "      \"searchable\": True,\n",
    "      \"filterable\": True,\n",
    "      \"retrievable\": True,\n",
    "      \"sortable\": False,\n",
    "      \"facetable\": True,\n",
    "      \"key\": False,\n",
    "      \"indexAnalyzer\": None,\n",
    "      \"searchAnalyzer\": None,\n",
    "      \"analyzer\": None,\n",
    "      \"fields\": []\n",
    "    }\n",
    "],\n",
    "  \"corsOptions\": {\n",
    "    \"allowedOrigins\": [\n",
    "      \"*\"\n",
    "    ],\n",
    "    \"maxAgeInSeconds\": 60\n",
    "  },\n",
    "  \"vectorSearch\": {\n",
    "    \"algorithms\": [\n",
    "      {\n",
    "        \"name\": \"my-hnsw-config\",\n",
    "        \"kind\": \"hnsw\",\n",
    "        \"hnswParameters\": {\n",
    "          \"m\": 4,\n",
    "          \"efConstruction\": 400,\n",
    "          \"efSearch\": 500,\n",
    "          \"metric\": \"cosine\"\n",
    "        }\n",
    "      },\n",
    "      {\n",
    "        \"name\": \"my-eknn-config\",\n",
    "        \"kind\": \"exhaustiveKnn\",\n",
    "        \"exhaustiveKnnParameters\": {\n",
    "          \"metric\": \"cosine\"\n",
    "        }\n",
    "      }\n",
    "    ],\n",
    "    \"profiles\": [\n",
    "      {\n",
    "        \"name\": \"my-vector-profile\",\n",
    "        \"algorithm\": \"my-hnsw-config\"\n",
    "      }\n",
    "    ]\n",
    "  },\n",
    "  \"semantic\": {\n",
    "    \"configurations\": [\n",
    "      {\n",
    "        \"name\": \"my-semantic-config\",\n",
    "        \"prioritizedFields\": {\n",
    "          \"prioritizedContentFields\": [\n",
    "            {\n",
    "              \"fieldName\": \"answer\"\n",
    "            }\n",
    "          ],\n",
    "          \"prioritizedKeywordsFields\": [\n",
    "            {\n",
    "              \"fieldName\": \"Tags\"\n",
    "            }\n",
    "          ]\n",
    "        }\n",
    "      }\n",
    "    ]\n",
    "  }\n",
    "})\n",
    "headers = {\n",
    "  'Content-Type': 'application/json',\n",
    "  'api-key': os.environ['AI_SEARCH_KEY']\n",
    "}\n",
    "\n",
    "response = requests.request(\"PUT\", url, headers=headers, data=payload)\n",
    "\n"
   ]
  },
  {
   "cell_type": "code",
   "execution_count": null,
   "metadata": {},
   "outputs": [],
   "source": [
    "# uploading the data\n",
    "import importlib\n",
    "import ai_search_upload_data\n",
    "importlib.reload(ai_search_upload_data)\n",
    "\n",
    "# Re-import the functions after reloading the module\n",
    "from ai_search_upload_data import analyze_docs, analyze_images\n",
    "\n",
    "# analyze the documents\n",
    "docs = analyze_docs()\n",
    "print(f\"docs: {docs}\")\n",
    "# analyze the images\n",
    "images_urls = [\"https://new2cloud.de/wp-content/uploads/2021/04/CreateAzureFreeAccount-1-1536x879.png\"]\n",
    "images = analyze_images(images_urls)\n",
    "print(f\"images: {images}\")"
   ]
  },
  {
   "cell_type": "code",
   "execution_count": 43,
   "metadata": {},
   "outputs": [],
   "source": [
    "def build_payload_vector_search(question, k=7):\n",
    "    return json.dumps({\n",
    "        \"count\": True, # return the count of results\n",
    "        \"select\": \"id, answer, Tags\", # return the specified fields\n",
    "        \"vectorQueries\": [\n",
    "            {\n",
    "                \"vector\": get_embedding(question, model=\"text-embedding-ada-002\"),\n",
    "                \"k\": k, # k is the number of results to return\n",
    "                \"fields\": \"AnswerVector\",\n",
    "                \"kind\": \"vector\",\n",
    "                \"exhaustive\": True\n",
    "            }\n",
    "        ]\n",
    "    })\n",
    "\n",
    "def answer_question_vector(question):\n",
    "    payload = build_payload_vector_search(question, 3)\n",
    "    headers = {\n",
    "      'Content-Type': 'application/json',\n",
    "        'api-key': api_key\n",
    "    }\n",
    "    response = requests.request(\"POST\", endpoint, headers=headers, data=payload)\n",
    "    return response.json()[\"value\"]"
   ]
  },
  {
   "cell_type": "code",
   "execution_count": 44,
   "metadata": {},
   "outputs": [],
   "source": [
    "def build_payload_hybrid_search(question, k=3, top=3):\n",
    "    return json.dumps({\n",
    "        \"count\": True,\n",
    "        \"search\": question,\n",
    "        \"select\": \"id, answer, Tags, filename\",\n",
    "        \"top\": top,\n",
    "        \"vectorQueries\": [\n",
    "            {\n",
    "                \"vector\": get_embedding(question, model=\"text-embedding-ada-002\"),\n",
    "                \"k\": k,\n",
    "                \"fields\": \"AnswerVector\",\n",
    "                \"kind\": \"vector\",\n",
    "                \"exhaustive\": True\n",
    "            }\n",
    "        ]\n",
    "    })\n",
    "\n",
    "def answer_question_hybrid(question):\n",
    "    payload = build_payload_hybrid_search(question)\n",
    "    headers = {\n",
    "      'Content-Type': 'application/json',\n",
    "        'api-key': api_key\n",
    "    }\n",
    "    response = requests.request(\"POST\", endpoint, headers=headers, data=payload)\n",
    "    return response.json()[\"value\"]"
   ]
  },
  {
   "cell_type": "code",
   "execution_count": 45,
   "metadata": {},
   "outputs": [],
   "source": [
    "def build_payload_keyword_search(question, top=3):\n",
    "    return json.dumps({\n",
    "        \"count\": True,\n",
    "        \"search\": question,\n",
    "        \"select\": \"id, answer, Tags\",\n",
    "        \"top\": top\n",
    "    })\n",
    "\n",
    "def answer_question_keyword(question):\n",
    "    payload = build_payload_keyword_search(question)\n",
    "    headers = {\n",
    "      'Content-Type': 'application/json',\n",
    "        'api-key': api_key\n",
    "    }\n",
    "    response = requests.request(\"POST\", endpoint, headers=headers, data=payload)\n",
    "    return response.json()[\"value\"]"
   ]
  },
  {
   "cell_type": "code",
   "execution_count": 46,
   "metadata": {},
   "outputs": [
    {
     "name": "stdout",
     "output_type": "stream",
     "text": [
      "At the end of your first 30 days or after you spend your $200 credit (whichever comes first), we'll ask you if you want to move to pay-as-you-go pricing. If you move to pay as you go, you'll keep getting free services and you'll only pay for what you use beyond the free monthly amounts. If you don't move to pay as you go, you can't purchase Azure services beyond your $200 credit—and eventually your account and services will be disabled.\n",
      "['FAQ', 'Azure']\n",
      "8.884999\n",
      "368cfc1f-d2d6-47c9-81ca-f75adf2541a7\n",
      "\n",
      "You start getting monthly free amounts of more than 55 other services when you create your Azure free account. If you move to pay-as-you-go pricing after 30 days or after you use your credit, you’ll continue to receive monthly free amounts of these services. If you exceed your monthly free amounts for any of these services, you’ll be billed for them at pay-as-you-go rates.\n",
      "['FAQ', 'Azure']\n",
      "5.626695\n",
      "d0a2b90d-2bae-4bd8-be57-84ee27fb6e1e\n",
      "\n",
      "When you sign up for an Azure free account, you get $200 credit. In the first 30 days, any services you use beyond their free amounts will be deducted from that $200 credit. When you've used up your $200 credit or 30 days have passed (whichever happens first), you'll need to upgrade by moving to pay-as-you-go pricing. That way, you can keep getting free amounts of services and purchase services beyond their free amounts as needed. The cost of those services is charged to the payment method you provide.\n",
      "['FAQ', 'Azure']\n",
      "5.3736367\n",
      "30f0d35f-246f-4f88-9e69-14ad008a5968\n",
      "\n"
     ]
    }
   ],
   "source": [
    "# API end point\n",
    "question = \"Can I skip the 30 days and just start with pay-as-you-go pricing?\"\n",
    "prompt = \"Q: \" + question + \"\\nA:\"\n",
    "prompt = \"I am searching for information about the question in 3 modes: keyword, vector, and hybrid search. Here are the results:\\n\\n\"\n",
    "res_keyword = answer_question_keyword(question)\n",
    "prompt += \"Keyword search:\\n\"\n",
    "for r in res_keyword:\n",
    "    prompt += f\"the answer is: {r['answer']}\\n\"\n",
    "    prompt += f\"the search score is: {r['@search.score']}\\n\"\n",
    "    print(r[\"answer\"])\n",
    "    print(r[\"Tags\"])\n",
    "    print(r[\"@search.score\"])\n",
    "    print(r[\"id\"])\n",
    "    print()\n",
    "prompt+= \"----end of keyword search----\\n\\n\""
   ]
  },
  {
   "cell_type": "code",
   "execution_count": 47,
   "metadata": {},
   "outputs": [
    {
     "name": "stdout",
     "output_type": "stream",
     "text": [
      "answer: If you decide not to move to pay-as-you-go pricing after your first 30 days or once you've used up your $200 credit (whichever happens first), any services you've deployed will be decommissioned and you won't be able to access them. To regain access, move to pay as you go within the following 30 days.\n",
      "\n",
      "answer: Yes. You can sign up directly for pay as you go. This will enable you to immediately use services beyond the free amounts at pay-as-you-go rates. You'll still get monthly free amounts of popular services for 12 months and more than 55 services that are always free, but you won't receive the $200 credit.\n",
      "\n",
      "answer: Once you move to pay-as-you-go pricing, certain types of popular services are available in free monthly amounts for 12 months. If you're using any of these services after 12 months, they'll continue to run and you'll be billed at pay-as-you-go rates. You'll continue to receive monthly free amounts of more than 55 services that are always free.\n",
      "\n"
     ]
    }
   ],
   "source": [
    "res_vector = answer_question_vector(question)\n",
    "prompt += \"Vector search:\\n\"\n",
    "for r in res_vector:\n",
    "    prompt += f\"the answer is: {r['answer']}\\n\"\n",
    "    prompt += f\"the search score is: {r['@search.score']}\\n\"\n",
    "    print(f\"answer: {r['answer']}\")\n",
    "    print()\n",
    "prompt+= \"----end of vector search----\\n\\n\"\n",
    "\n"
   ]
  },
  {
   "cell_type": "code",
   "execution_count": 48,
   "metadata": {},
   "outputs": [
    {
     "name": "stdout",
     "output_type": "stream",
     "text": [
      "answer: If you decide not to move to pay-as-you-go pricing after your first 30 days or once you've used up your $200 credit (whichever happens first), any services you've deployed will be decommissioned and you won't be able to access them. To regain access, move to pay as you go within the following 30 days.\n",
      "filename: faqs.csv\n",
      "Tags: ['FAQ', 'Azure']\n",
      "score: 0.03159204125404358\n",
      "id: 6737c8c9-021f-43fb-95a8-8022c6fb881e\n",
      "\n",
      "answer: Yes. You can sign up directly for pay as you go. This will enable you to immediately use services beyond the free amounts at pay-as-you-go rates. You'll still get monthly free amounts of popular services for 12 months and more than 55 services that are always free, but you won't receive the $200 credit.\n",
      "filename: faqs.csv\n",
      "Tags: ['FAQ', 'Azure']\n",
      "score: 0.030886195600032806\n",
      "id: 26dc8d02-f889-43f8-b298-e9638c7baea5\n",
      "\n",
      "answer: Once you move to pay-as-you-go pricing, certain types of popular services are available in free monthly amounts for 12 months. If you're using any of these services after 12 months, they'll continue to run and you'll be billed at pay-as-you-go rates. You'll continue to receive monthly free amounts of more than 55 services that are always free.\n",
      "filename: faqs.csv\n",
      "Tags: ['FAQ', 'Azure']\n",
      "score: 0.03083491325378418\n",
      "id: 8b1a3ae6-57d1-49f0-9110-11cdc7312707\n",
      "\n"
     ]
    }
   ],
   "source": [
    "res_hybrid = answer_question_hybrid(question)\n",
    "prompt += \"Hybrid search:\\n\"\n",
    "\n",
    "for r in res_hybrid:\n",
    "    prompt += f\"the answer is: {r['answer']}\\n\"\n",
    "    prompt += f\"the search score is: {r['@search.score']}\\n\"\n",
    "    print(f\"answer: {r['answer']}\")\n",
    "    print(f\"filename: {r['filename']}\")\n",
    "    print(f\"Tags: {r['Tags']}\")\n",
    "    print(f\"score: {r['@search.score']}\")\n",
    "    print(f\"id: {r['id']}\")\n",
    "    print()\n",
    "prompt+= \"----end of hybrid search----\\n\\n\""
   ]
  },
  {
   "cell_type": "code",
   "execution_count": 55,
   "metadata": {},
   "outputs": [
    {
     "name": "stdout",
     "output_type": "stream",
     "text": [
      "\n",
      "Based on the search results, I find the following answer most helpful:\n",
      "\n",
      "**Hybrid Search:**\n",
      "- **Answer:** \"If you decide not to move to pay-as-you-go pricing after your first 30 days or once you've used up your $200 credit (whichever happens first), any services you've deployed will be decommissioned and you won't be able to access them. To regain access, move to pay-as-you-go within the following 30 days.\"\n",
      "- **Search Score:** 0.\n"
     ]
    }
   ],
   "source": [
    "\n",
    "\n",
    "prompt += \"which of the methods do you think is the best that gave the most relevant results?\"\n",
    "\n",
    "response = client.chat.completions.create(\n",
    "    model=\"gpo-4o-global\",\n",
    "    messages=[\n",
    "        {\"role\": \"system\", \"content\": prompt}\n",
    "    ],  \n",
    "    max_tokens=100,\n",
    ")\n",
    "print()\n",
    "print(response.choices[0].message.content)"
   ]
  },
  {
   "cell_type": "code",
   "execution_count": 57,
   "metadata": {},
   "outputs": [
    {
     "name": "stdout",
     "output_type": "stream",
     "text": [
      "['FAQ', 'Azure', 'Image']\n",
      "0.03333333507180214\n",
      "9404e350-5e8e-449f-abbf-3aedd180b7ef\n",
      "\n",
      "['FAQ', 'Azure']\n",
      "0.03151364624500275\n",
      "30f0d35f-246f-4f88-9e69-14ad008a5968\n",
      "\n",
      "['FAQ', 'Azure']\n",
      "0.03131881356239319\n",
      "d0a2b90d-2bae-4bd8-be57-84ee27fb6e1e\n",
      "\n"
     ]
    }
   ],
   "source": [
    "question = \"what are the servuces included in the Microsoft Azure free trial offer?\"\n",
    "answer_hybrid = answer_question_hybrid(question)\n",
    "\n",
    "# pprint(f\"hybrid={answer_hybrid}\")\n",
    "for answer in answer_hybrid:\n",
    "    print(answer[\"Tags\"])\n",
    "    print(answer[\"@search.score\"])\n",
    "    print(answer[\"id\"])\n",
    "    print()"
   ]
  },
  {
   "cell_type": "code",
   "execution_count": 59,
   "metadata": {},
   "outputs": [
    {
     "name": "stdout",
     "output_type": "stream",
     "text": [
      "answer: ['FAQ', 'Azure', 'Image']\n",
      "the user question: what are the servuces included in the Microsoft Azure free trial offer?\n",
      "The following data was retrieved from the Azure Search service:\n",
      "----------------\n",
      "The image displays a list of services available under the Azure Free Trial. The services are organized into categories: Compute, Storage, Databases, Networking, Integration, and Containers. Each service includes specific details such as the amount of free usage, with examples like 750 hours of Linux and Windows Virtual Machines, 64 GB of Managed Disks (SSD), 5 GB of Blob and File Storage, 250 GB of SQL Database, and 400 RU/s provisioned throughput in Azure Cosmos DB. Additional services include VPN Gateway, Load Balancer, Service Bus, and Container Registry.\n",
      "image_url: https://new2cloud.de/wp-content/uploads/2021/04/CreateAzureFreeAccount-1-1536x879.png\n",
      "----------------\n",
      "When you sign up for an Azure free account, you get $200 credit. In the first 30 days, any services you use beyond their free amounts will be deducted from that $200 credit. When you've used up your $200 credit or 30 days have passed (whichever happens first), you'll need to upgrade by moving to pay-as-you-go pricing. That way, you can keep getting free amounts of services and purchase services beyond their free amounts as needed. The cost of those services is charged to the payment method you provide.\n",
      "\n",
      "----------------\n",
      "You start getting monthly free amounts of more than 55 other services when you create your Azure free account. If you move to pay-as-you-go pricing after 30 days or after you use your credit, you’ll continue to receive monthly free amounts of these services. If you exceed your monthly free amounts for any of these services, you’ll be billed for them at pay-as-you-go rates.\n",
      "\n",
      "----------------\n",
      "\n"
     ]
    }
   ],
   "source": [
    "# putting images in the answer example\n",
    "\n",
    "\n",
    "prompt = f\"\"\"the user question: {question}\n",
    "The following data was retrieved from the Azure Search service:\n",
    "\"\"\"\n",
    "for answer in answer_hybrid:\n",
    "    prompt += \"----------------\\n\"\n",
    "    prompt += f\"\"\"{answer[\"answer\"]}\\n\"\"\"\n",
    "    if \"Image\" in answer[\"Tags\"]:\n",
    "        print(f\"answer: {answer['Tags']}\")\n",
    "        prompt += f\"\"\"image_url: {answer[\"filename\"]}\"\"\"\n",
    "    prompt += \"\\n\"\n",
    "prompt += \"----------------\\n\"\n",
    "print(prompt)\n",
    "response = client.chat.completions.create(\n",
    "        model=\"gpt-4-turbo\",\n",
    "        response_format={ \"type\": \"json_object\" },\n",
    "        messages=[\n",
    "            {\n",
    "                \"role\": \"system\",\n",
    "                \"content\": \"\"\"you are a bot that answers questions about Azure services\n",
    "                                write an answer to the user. The answer can combine images and text. The answer should be informative and concise. answer shortly and only about what the user asked.\n",
    "                                format the answer in a json structure with the following format:\n",
    "                                {\"answer\": [\n",
    "                                    {\n",
    "                                        \"type\": \"text\",\n",
    "                                        \"content\": <>\n",
    "                                    },\n",
    "                                    {\n",
    "                                        \"type\": \"image\",\n",
    "                                        \"url\": <>,\n",
    "                                        \"caption\": <>\n",
    "                                    }....\n",
    "                                ]}\n",
    "                                when integrating image into the answer, add text before the image that will explain what can be seen in the image. for exaple: In the following image, you can see....\n",
    "                                the message will print the information in order of the list and will present the images from the urls.\"\"\"\n",
    "            }, {\n",
    "                \"role\": \"user\",\n",
    "                \"content\": prompt\n",
    "            }\n",
    "        ]\n",
    "    )\n",
    "# make sure that we take only the json by finding the first { and last } chars\n",
    "res_json_str = response.choices[0].message.content[response.choices[0].message.content.find(\"{\"):response.choices[0].message.content.rfind(\"}\")+1]\n",
    "res_json = json.loads(res_json_str)\n",
    "pprint(res_json)\n"
   ]
  },
  {
   "cell_type": "code",
   "execution_count": 60,
   "metadata": {},
   "outputs": [
    {
     "data": {
      "text/markdown": [
       "The Microsoft Azure free trial offers a variety of services categorized into Compute, Storage, Databases, Networking, Integration, and Containers. Some notable free provisions include 750 hours of Linux and Windows Virtual Machines, 64 GB of Managed Disks (SSD), 5 GB of Blob and File Storage, 250 GB of SQL Database, and 400 RU/s provisioned throughput in Azure Cosmos DB. Additional services like VPN Gateway, Load Balancer, Service Bus, and Container Registry are also included."
      ],
      "text/plain": [
       "<IPython.core.display.Markdown object>"
      ]
     },
     "metadata": {},
     "output_type": "display_data"
    },
    {
     "data": {
      "image/png": "[encoded data removed]",
      "text/plain": [
       "<Figure size 640x480 with 1 Axes>"
      ]
     },
     "metadata": {},
     "output_type": "display_data"
    },
    {
     "data": {
      "text/markdown": [
       "When you sign up for an Azure free account, you receive $200 credit to use over the first 30 days on any services beyond their free amounts. Post the initial 30 days or after exhausting your credit, you can continue receiving monthly free amounts of more than 55 other services by moving to pay-as-you-go pricing. Additional usage will be billed at standard rates."
      ],
      "text/plain": [
       "<IPython.core.display.Markdown object>"
      ]
     },
     "metadata": {},
     "output_type": "display_data"
    }
   ],
   "source": [
    "import matplotlib.pyplot as plt\n",
    "import requests\n",
    "from PIL import Image\n",
    "from io import BytesIO\n",
    "from IPython.display import display, Markdown\n",
    "\n",
    "\n",
    "def display_response(response):\n",
    "    for item in response['answer']:\n",
    "        if item['type'] == 'text':\n",
    "            display(Markdown(item['content']))\n",
    "        elif item['type'] == 'image':\n",
    "            response = requests.get(item['url'])\n",
    "            img = Image.open(BytesIO(response.content))\n",
    "            plt.imshow(img)\n",
    "            plt.axis('off')\n",
    "            plt.title(item['caption'])\n",
    "            plt.show()\n",
    "\n",
    "# Call the function to display the response\n",
    "display_response(res_json)\n"
   ]
  },
  {
   "cell_type": "code",
   "execution_count": null,
   "metadata": {},
   "outputs": [],
   "source": []
  }
 ],
 "metadata": {
  "kernelspec": {
   "display_name": "Python 3",
   "language": "python",
   "name": "python3"
  },
  "language_info": {
   "codemirror_mode": {
    "name": "ipython",
    "version": 3
   },
   "file_extension": ".py",
   "mimetype": "text/x-python",
   "name": "python",
   "nbconvert_exporter": "python",
   "pygments_lexer": "ipython3",
   "version": "3.10.14"
  }
 },
 "nbformat": 4,
 "nbformat_minor": 2
}
